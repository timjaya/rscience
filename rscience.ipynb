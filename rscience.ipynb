{
 "cells": [
  {
   "cell_type": "markdown",
   "metadata": {},
   "source": [
    "# Analysis of RScience\n",
    "Authors: Tim Kartawijaya and Jing Yi Zhou"
   ]
  },
  {
   "cell_type": "code",
   "execution_count": 2,
   "metadata": {},
   "outputs": [],
   "source": [
    "from sklearn.feature_extraction.text import CountVectorizer\n",
    "import pandas as pd\n",
    "from sklearn.model_selection import train_test_split, cross_val_score\n",
    "from sklearn.linear_model import LogisticRegressionCV, LogisticRegression\n",
    "from sklearn.feature_extraction.text import TfidfVectorizer, TfidfTransformer\n",
    "from sklearn.pipeline import Pipeline\n",
    "from sklearn.model_selection import GridSearchCV\n",
    "from sklearn.metrics import classification_report, confusion_matrix, roc_auc_score\n",
    "from sklearn.preprocessing import Normalizer\n",
    "import numpy as np\n",
    "import string\n",
    "import copy\n",
    "import matplotlib.pyplot as plt"
   ]
  },
  {
   "cell_type": "markdown",
   "metadata": {},
   "source": [
    "## Import the Data"
   ]
  },
  {
   "cell_type": "markdown",
   "metadata": {},
   "source": [
    "We will subsample the data with 32,000 samples for computational purposes (grid searching takes a very long time with 200k samples) "
   ]
  },
  {
   "cell_type": "code",
   "execution_count": 4,
   "metadata": {},
   "outputs": [
    {
     "name": "stdout",
     "output_type": "stream",
     "text": [
      "135529\n"
     ]
    }
   ],
   "source": [
    "import random\n",
    "def random_sample(filename, size=32000, n=167529):\n",
    "    #number of records in file (excludes header)\n",
    "    #the 0-indexed header will not be included in the skip list\n",
    "    skip = sorted(random.sample(range(1,n+1),n-size)) \n",
    "    print(len(skip))\n",
    "    return pd.read_csv(filename, encoding = \"ISO-8859-1\", skiprows=skip)\n",
    "sampled_train = random_sample(\"data/reddit_200k_train.csv\")"
   ]
  },
  {
   "cell_type": "markdown",
   "metadata": {},
   "source": [
    "# Data Exploration"
   ]
  },
  {
   "cell_type": "markdown",
   "metadata": {},
   "source": [
    "First, let's take a peek at the dataset."
   ]
  },
  {
   "cell_type": "code",
   "execution_count": 11,
   "metadata": {},
   "outputs": [
    {
     "data": {
      "text/html": [
       "<div>\n",
       "<style scoped>\n",
       "    .dataframe tbody tr th:only-of-type {\n",
       "        vertical-align: middle;\n",
       "    }\n",
       "\n",
       "    .dataframe tbody tr th {\n",
       "        vertical-align: top;\n",
       "    }\n",
       "\n",
       "    .dataframe thead th {\n",
       "        text-align: right;\n",
       "    }\n",
       "</style>\n",
       "<table border=\"1\" class=\"dataframe\">\n",
       "  <thead>\n",
       "    <tr style=\"text-align: right;\">\n",
       "      <th></th>\n",
       "      <th>Unnamed: 0</th>\n",
       "      <th>body</th>\n",
       "      <th>score.x</th>\n",
       "      <th>parent_id.x</th>\n",
       "      <th>id</th>\n",
       "      <th>created_utc.x</th>\n",
       "      <th>retrieved_on</th>\n",
       "      <th>REMOVED</th>\n",
       "    </tr>\n",
       "  </thead>\n",
       "  <tbody>\n",
       "    <tr>\n",
       "      <th>0</th>\n",
       "      <td>3</td>\n",
       "      <td>Monday: Drug companies stock dives on good new...</td>\n",
       "      <td>5</td>\n",
       "      <td>t3_8o88yr</td>\n",
       "      <td>e02sjhz</td>\n",
       "      <td>1528087570</td>\n",
       "      <td>1532170350</td>\n",
       "      <td>True</td>\n",
       "    </tr>\n",
       "    <tr>\n",
       "      <th>1</th>\n",
       "      <td>5</td>\n",
       "      <td>Well i was wanting to get wasted tonight.  Not...</td>\n",
       "      <td>3</td>\n",
       "      <td>t3_99wi9m</td>\n",
       "      <td>e4rtew8</td>\n",
       "      <td>1535140675</td>\n",
       "      <td>1537893540</td>\n",
       "      <td>False</td>\n",
       "    </tr>\n",
       "    <tr>\n",
       "      <th>2</th>\n",
       "      <td>22</td>\n",
       "      <td>New study shows 90% of the comments get remove...</td>\n",
       "      <td>18</td>\n",
       "      <td>t3_7a2pmo</td>\n",
       "      <td>dp6rpcw</td>\n",
       "      <td>1509542898</td>\n",
       "      <td>1512014062</td>\n",
       "      <td>True</td>\n",
       "    </tr>\n",
       "    <tr>\n",
       "      <th>3</th>\n",
       "      <td>35</td>\n",
       "      <td>'Max Planck from theÂ Institute for Cognitive ...</td>\n",
       "      <td>15</td>\n",
       "      <td>t3_80psqz</td>\n",
       "      <td>duxc8nz</td>\n",
       "      <td>1519765498</td>\n",
       "      <td>1520318924</td>\n",
       "      <td>False</td>\n",
       "    </tr>\n",
       "    <tr>\n",
       "      <th>4</th>\n",
       "      <td>38</td>\n",
       "      <td>Its like this title was created using a rando...</td>\n",
       "      <td>8</td>\n",
       "      <td>t3_9ay822</td>\n",
       "      <td>e4z0wh3</td>\n",
       "      <td>1535462309</td>\n",
       "      <td>1538014665</td>\n",
       "      <td>True</td>\n",
       "    </tr>\n",
       "  </tbody>\n",
       "</table>\n",
       "</div>"
      ],
      "text/plain": [
       "   Unnamed: 0                                               body  score.x  \\\n",
       "0           3  Monday: Drug companies stock dives on good new...        5   \n",
       "1           5  Well i was wanting to get wasted tonight.  Not...        3   \n",
       "2          22  New study shows 90% of the comments get remove...       18   \n",
       "3          35  'Max Planck from theÂ Institute for Cognitive ...       15   \n",
       "4          38  Its like this title was created using a rando...        8   \n",
       "\n",
       "  parent_id.x       id  created_utc.x  retrieved_on  REMOVED  \n",
       "0   t3_8o88yr  e02sjhz     1528087570    1532170350     True  \n",
       "1   t3_99wi9m  e4rtew8     1535140675    1537893540    False  \n",
       "2   t3_7a2pmo  dp6rpcw     1509542898    1512014062     True  \n",
       "3   t3_80psqz  duxc8nz     1519765498    1520318924    False  \n",
       "4   t3_9ay822  e4z0wh3     1535462309    1538014665     True  "
      ]
     },
     "execution_count": 11,
     "metadata": {},
     "output_type": "execute_result"
    }
   ],
   "source": [
    "sampled_train.head()"
   ]
  },
  {
   "cell_type": "markdown",
   "metadata": {},
   "source": [
    "We can see from above, for features we have the user id, score, and time retrieved on. Score may be greatly indicative of whether a post is inappropriate for the thread (assuming scorers are hard core r/science users). Let us see if that is the case below."
   ]
  },
  {
   "cell_type": "code",
   "execution_count": 13,
   "metadata": {},
   "outputs": [],
   "source": [
    "score = sampled_train['score.x']\n",
    "removed = sampled_train['REMOVED']\n",
    "score_removed = score[removed==True]\n",
    "score_not_removed = score[removed==False]"
   ]
  },
  {
   "cell_type": "code",
   "execution_count": 15,
   "metadata": {},
   "outputs": [
    {
     "data": {
      "text/plain": [
       "(array([1.9511e+04, 8.2000e+01, 3.6000e+01, 1.2000e+01, 1.1000e+01,\n",
       "        6.0000e+00, 6.0000e+00, 3.0000e+00, 3.0000e+00, 1.0000e+00]),\n",
       " array([  -78. ,  1274.3,  2626.6,  3978.9,  5331.2,  6683.5,  8035.8,\n",
       "         9388.1, 10740.4, 12092.7, 13445. ]),\n",
       " <a list of 10 Patch objects>)"
      ]
     },
     "execution_count": 15,
     "metadata": {},
     "output_type": "execute_result"
    },
    {
     "data": {
      "image/png": "[encoded data removed]",
      "text/plain": [
       "<Figure size 432x288 with 1 Axes>"
      ]
     },
     "metadata": {
      "needs_background": "light"
     },
     "output_type": "display_data"
    }
   ],
   "source": [
    "plt.hist(score_not_removed)"
   ]
  },
  {
   "cell_type": "code",
   "execution_count": 14,
   "metadata": {},
   "outputs": [
    {
     "data": {
      "text/plain": [
       "(array([1.2299e+04, 1.8000e+01, 6.0000e+00, 2.0000e+00, 2.0000e+00,\n",
       "        1.0000e+00, 0.0000e+00, 0.0000e+00, 0.0000e+00, 1.0000e+00]),\n",
       " array([ -132. ,  1637.7,  3407.4,  5177.1,  6946.8,  8716.5, 10486.2,\n",
       "        12255.9, 14025.6, 15795.3, 17565. ]),\n",
       " <a list of 10 Patch objects>)"
      ]
     },
     "execution_count": 14,
     "metadata": {},
     "output_type": "execute_result"
    },
    {
     "data": {
      "image/png": "[encoded data removed]",
      "text/plain": [
       "<Figure size 432x288 with 1 Axes>"
      ]
     },
     "metadata": {
      "needs_background": "light"
     },
     "output_type": "display_data"
    }
   ],
   "source": [
    "plt.hist(score_removed)"
   ]
  },
  {
   "cell_type": "markdown",
   "metadata": {},
   "source": [
    "For now, let us only use content of the body as features for the model, since we want our model to act quickly (don't need to wait for user scores). "
   ]
  },
  {
   "cell_type": "code",
   "execution_count": 5,
   "metadata": {},
   "outputs": [
    {
     "name": "stderr",
     "output_type": "stream",
     "text": [
      "/Users/TimGimi/miniconda3/lib/python3.7/site-packages/pandas/core/frame.py:3381: SettingWithCopyWarning: \n",
      "A value is trying to be set on a copy of a slice from a DataFrame.\n",
      "Try using .loc[row_indexer,col_indexer] = value instead\n",
      "\n",
      "See the caveats in the documentation: http://pandas.pydata.org/pandas-docs/stable/indexing.html#indexing-view-versus-copy\n",
      "  self[k1] = value[k2]\n"
     ]
    },
    {
     "data": {
      "text/html": [
       "<div>\n",
       "<style scoped>\n",
       "    .dataframe tbody tr th:only-of-type {\n",
       "        vertical-align: middle;\n",
       "    }\n",
       "\n",
       "    .dataframe tbody tr th {\n",
       "        vertical-align: top;\n",
       "    }\n",
       "\n",
       "    .dataframe thead th {\n",
       "        text-align: right;\n",
       "    }\n",
       "</style>\n",
       "<table border=\"1\" class=\"dataframe\">\n",
       "  <thead>\n",
       "    <tr style=\"text-align: right;\">\n",
       "      <th></th>\n",
       "      <th>body</th>\n",
       "      <th>REMOVED</th>\n",
       "    </tr>\n",
       "  </thead>\n",
       "  <tbody>\n",
       "    <tr>\n",
       "      <th>0</th>\n",
       "      <td>Monday: Drug companies stock dives on good new...</td>\n",
       "      <td>1</td>\n",
       "    </tr>\n",
       "    <tr>\n",
       "      <th>1</th>\n",
       "      <td>Well i was wanting to get wasted tonight.  Not...</td>\n",
       "      <td>0</td>\n",
       "    </tr>\n",
       "    <tr>\n",
       "      <th>2</th>\n",
       "      <td>New study shows 90% of the comments get remove...</td>\n",
       "      <td>1</td>\n",
       "    </tr>\n",
       "    <tr>\n",
       "      <th>3</th>\n",
       "      <td>'Max Planck from theÂ Institute for Cognitive ...</td>\n",
       "      <td>0</td>\n",
       "    </tr>\n",
       "    <tr>\n",
       "      <th>4</th>\n",
       "      <td>Its like this title was created using a rando...</td>\n",
       "      <td>1</td>\n",
       "    </tr>\n",
       "  </tbody>\n",
       "</table>\n",
       "</div>"
      ],
      "text/plain": [
       "                                                body  REMOVED\n",
       "0  Monday: Drug companies stock dives on good new...        1\n",
       "1  Well i was wanting to get wasted tonight.  Not...        0\n",
       "2  New study shows 90% of the comments get remove...        1\n",
       "3  'Max Planck from theÂ Institute for Cognitive ...        0\n",
       "4  Its like this title was created using a rando...        1"
      ]
     },
     "execution_count": 5,
     "metadata": {},
     "output_type": "execute_result"
    }
   ],
   "source": [
    "my_train = sampled_train[['body', 'REMOVED']]\n",
    "my_test = pd.read_csv('data/reddit_200k_test.csv', \n",
    "                      encoding = \"ISO-8859-1\")[['body', 'REMOVED']]\n",
    "my_train[['REMOVED']] = (my_train[['REMOVED']] == True).astype(int)\n",
    "my_test[['REMOVED']] = (my_test[['REMOVED']] == True).astype(int)\n",
    "my_train.head()"
   ]
  },
  {
   "cell_type": "code",
   "execution_count": 9,
   "metadata": {},
   "outputs": [
    {
     "data": {
      "text/html": [
       "<div>\n",
       "<style scoped>\n",
       "    .dataframe tbody tr th:only-of-type {\n",
       "        vertical-align: middle;\n",
       "    }\n",
       "\n",
       "    .dataframe tbody tr th {\n",
       "        vertical-align: top;\n",
       "    }\n",
       "\n",
       "    .dataframe thead th {\n",
       "        text-align: right;\n",
       "    }\n",
       "</style>\n",
       "<table border=\"1\" class=\"dataframe\">\n",
       "  <thead>\n",
       "    <tr style=\"text-align: right;\">\n",
       "      <th></th>\n",
       "      <th>body</th>\n",
       "      <th>REMOVED</th>\n",
       "    </tr>\n",
       "  </thead>\n",
       "  <tbody>\n",
       "    <tr>\n",
       "      <th>0</th>\n",
       "      <td>Hi Larpo_Nadar, your submission has been remov...</td>\n",
       "      <td>1</td>\n",
       "    </tr>\n",
       "    <tr>\n",
       "      <th>1</th>\n",
       "      <td>So out of every 10,000 children with autism wh...</td>\n",
       "      <td>0</td>\n",
       "    </tr>\n",
       "    <tr>\n",
       "      <th>2</th>\n",
       "      <td>When I was pregnant, I was warned against eati...</td>\n",
       "      <td>0</td>\n",
       "    </tr>\n",
       "    <tr>\n",
       "      <th>3</th>\n",
       "      <td>Imagine if this find was the bug that eradicat...</td>\n",
       "      <td>1</td>\n",
       "    </tr>\n",
       "    <tr>\n",
       "      <th>4</th>\n",
       "      <td>Is it a myth that the math says it would take ...</td>\n",
       "      <td>0</td>\n",
       "    </tr>\n",
       "  </tbody>\n",
       "</table>\n",
       "</div>"
      ],
      "text/plain": [
       "                                                body  REMOVED\n",
       "0  Hi Larpo_Nadar, your submission has been remov...        1\n",
       "1  So out of every 10,000 children with autism wh...        0\n",
       "2  When I was pregnant, I was warned against eati...        0\n",
       "3  Imagine if this find was the bug that eradicat...        1\n",
       "4  Is it a myth that the math says it would take ...        0"
      ]
     },
     "execution_count": 9,
     "metadata": {},
     "output_type": "execute_result"
    }
   ],
   "source": [
    "my_test.head()"
   ]
  },
  {
   "cell_type": "markdown",
   "metadata": {},
   "source": [
    "## Clean dataset of punctuations, whitespace, etc.\n",
    "\n",
    "(TODO: May be redundant since BoW from sklearn does this for you)"
   ]
  },
  {
   "cell_type": "code",
   "execution_count": 7,
   "metadata": {},
   "outputs": [],
   "source": [
    "def clean_df(df_orig):\n",
    "    df = df_orig.copy()\n",
    "    # Removing punctuations\n",
    "    df['body'] = df['body'].str.replace('[^\\w\\s]','')\n",
    "    # Remove digits\n",
    "    df['body'] = df['body'].str.replace('\\d+', '', regex=True, case=False)\n",
    "    # Lower casing every words\n",
    "    df['body'] = df['body'].str.lower()\n",
    "    return df\n",
    "\n",
    "my_train_cleaned = clean_df(my_train)\n",
    "my_test_cleaned = clean_df(my_test)\n",
    "\n",
    "X_train = my_train_cleaned['body']\n",
    "y_train = my_train_cleaned['REMOVED']\n",
    "X_test = my_test_cleaned['body']\n",
    "y_test = my_test_cleaned['REMOVED']"
   ]
  },
  {
   "cell_type": "markdown",
   "metadata": {},
   "source": [
    "As we can see below, the data is imbalanced. To handle this, we will use model class_weights to balance the dataset as we train."
   ]
  },
  {
   "cell_type": "code",
   "execution_count": 8,
   "metadata": {},
   "outputs": [
    {
     "name": "stdout",
     "output_type": "stream",
     "text": [
      "length of X_train:  32000\n",
      "class balance:  [19671 12329]\n",
      "length of X_test:  55843\n",
      "class balance:  [34565 21278]\n"
     ]
    }
   ],
   "source": [
    "print(\"length of X_train: \", len(X_train))\n",
    "print(\"class balance: \", np.bincount(y_train))\n",
    "print(\"length of X_test: \", len(X_test))\n",
    "print(\"class balance: \", np.bincount(y_test))"
   ]
  },
  {
   "cell_type": "markdown",
   "metadata": {},
   "source": [
    "# Baseline: Bag of Words "
   ]
  },
  {
   "cell_type": "markdown",
   "metadata": {},
   "source": [
    "### Baseline: Bag-of-Words, Logistic Regression\n",
    "As a baseline, we will use CountVectorizer to create a bag of words, and use logistic regression as our linear baseline. Since we would like a balance between finding a troll and not misclassifying in this problem (want to remove most trollers but not remove too many true posts), we will use roc_auc as our scoring metric. "
   ]
  },
  {
   "cell_type": "code",
   "execution_count": 49,
   "metadata": {},
   "outputs": [
    {
     "data": {
      "text/plain": [
       "Pipeline(memory=None,\n",
       "     steps=[('vect', CountVectorizer(analyzer='word', binary=False, decode_error='strict',\n",
       "        dtype=<class 'numpy.int64'>, encoding='utf-8', input='content',\n",
       "        lowercase=True, max_df=1.0, max_features=None, min_df=1,\n",
       "        ngram_range=(1, 1), preprocessor=None, stop_words=None,\n",
       "        strip...andom_state=None, refit=True, scoring='roc_auc',\n",
       "           solver='lbfgs', tol=0.0001, verbose=0))])"
      ]
     },
     "execution_count": 49,
     "metadata": {},
     "output_type": "execute_result"
    }
   ],
   "source": [
    "lr = Pipeline([\n",
    "     ('vect', CountVectorizer()),\n",
    "     ('clf', LogisticRegressionCV(cv=5, max_iter=4000, \n",
    "                                  class_weight='balanced', penalty='l2', \n",
    "                                  scoring='roc_auc', solver = 'lbfgs'))\n",
    "     ])\n",
    "lr.fit(X_train, y_train)"
   ]
  },
  {
   "cell_type": "code",
   "execution_count": 51,
   "metadata": {},
   "outputs": [
    {
     "data": {
      "text/plain": [
       "0.7048077323079116"
      ]
     },
     "execution_count": 51,
     "metadata": {},
     "output_type": "execute_result"
    }
   ],
   "source": [
    "# CROSS VALIDATION SCORE\n",
    "cv_scores = [np.mean(x) for x in lr.steps[1][1].scores_[1]]\n",
    "cv_scores = []\n",
    "for i in range(len(lr.steps[1][1].scores_[1][0])):\n",
    "    cv_scores.append(np.mean(lr.steps[1][1].scores_[1][:,i]))\n",
    "best_cv_score=max(cv_scores)\n",
    "best_cv_score"
   ]
  },
  {
   "cell_type": "markdown",
   "metadata": {},
   "source": [
    "We can see above that the cross-validation score for the baseline model is not too bad, better than random guessing (~<50% on most metrics). Now let's try to see if other variations of the model (with tfidf, n-grams, etc.) works better."
   ]
  },
  {
   "cell_type": "markdown",
   "metadata": {},
   "source": [
    "## Try using n-grams, characters, tf-idf rescaling."
   ]
  },
  {
   "cell_type": "markdown",
   "metadata": {},
   "source": [
    "### With TFIDF"
   ]
  },
  {
   "cell_type": "markdown",
   "metadata": {},
   "source": [
    "From the results below, we see that TFIDF doesn't have a significant impact on the scores, compared to the baseline."
   ]
  },
  {
   "cell_type": "code",
   "execution_count": 55,
   "metadata": {},
   "outputs": [
    {
     "data": {
      "text/plain": [
       "Pipeline(memory=None,\n",
       "     steps=[('vect', CountVectorizer(analyzer='word', binary=False, decode_error='strict',\n",
       "        dtype=<class 'numpy.int64'>, encoding='utf-8', input='content',\n",
       "        lowercase=True, max_df=1.0, max_features=None, min_df=1,\n",
       "        ngram_range=(1, 1), preprocessor=None, stop_words=None,\n",
       "        strip...=None,\n",
       "           refit=True, scoring='roc_auc', solver='lbfgs', tol=0.0001,\n",
       "           verbose=0))])"
      ]
     },
     "execution_count": 55,
     "metadata": {},
     "output_type": "execute_result"
    }
   ],
   "source": [
    "from sklearn.feature_extraction.text import TfidfVectorizer\n",
    "lr_tfidf = Pipeline([\n",
    "     ('vect', CountVectorizer()),\n",
    "     ('tfidf', TfidfTransformer()),\n",
    "     ('clf', LogisticRegressionCV(cv=5, n_jobs=-1, max_iter=4000, \n",
    "                                  class_weight='balanced', penalty='l2', \n",
    "                                  scoring='roc_auc', solver = 'lbfgs'))\n",
    "     ])\n",
    "lr_tfidf.fit(X_train, y_train)"
   ]
  },
  {
   "cell_type": "code",
   "execution_count": 70,
   "metadata": {},
   "outputs": [
    {
     "data": {
      "text/plain": [
       "0.7135360152384247"
      ]
     },
     "execution_count": 70,
     "metadata": {},
     "output_type": "execute_result"
    }
   ],
   "source": [
    "# CROSS VALIDATION SCORE\n",
    "cv_scores = [np.mean(x) for x in lr_tfidf.steps[2][1].scores_[1]]\n",
    "cv_scores = []\n",
    "for i in range(len(lr_tfidf.steps[2][1].scores_[1][0])):\n",
    "    cv_scores.append(np.mean(lr_tfidf.steps[2][1].scores_[1][:,i]))\n",
    "best_cv_score=max(cv_scores)\n",
    "best_cv_score"
   ]
  },
  {
   "cell_type": "markdown",
   "metadata": {},
   "source": [
    "As we can see here, our cv_scores improved by about 1%, which isn't that significant."
   ]
  },
  {
   "cell_type": "markdown",
   "metadata": {},
   "source": [
    "### With Word N-Grams"
   ]
  },
  {
   "cell_type": "markdown",
   "metadata": {},
   "source": [
    "Let's now see how our model works with Word/Character N-Grams. First, let's see how our model works if we only use word n grams."
   ]
  },
  {
   "cell_type": "code",
   "execution_count": null,
   "metadata": {},
   "outputs": [],
   "source": [
    "text_clf_word = Pipeline([\n",
    "     ('vect', CountVectorizer(analyzer='word')),\n",
    "     ('tfidf', TfidfTransformer()),\n",
    "     ('clf', LogisticRegression(class_weight='balanced', \n",
    "                                penalty='l2', max_iter=4000, \n",
    "                                solver = 'lbfgs'))\n",
    "     ])\n",
    "\n",
    "parameters = {\n",
    "    'vect__ngram_range': [(1, 1), (1, 2), (1, 5), (1, 7), (2, 3), (2, 5), (3, 8), (5, 5)],\n",
    "    'vect__min_df': [1, 2, 3],\n",
    "    'clf__C': [100, 10, 1, 1e-1, 1e-2, 1e-3]\n",
    "     }\n",
    "\n",
    "gs_clf_word = GridSearchCV(text_clf_word, parameters, \n",
    "                           cv=5, n_jobs=-1, scoring = \"roc_auc\")\n",
    "gs_clf_word.fit(X_train, y_train)"
   ]
  },
  {
   "cell_type": "code",
   "execution_count": 73,
   "metadata": {},
   "outputs": [
    {
     "name": "stdout",
     "output_type": "stream",
     "text": [
      "Best Params:  {'clf__C': 1, 'vect__min_df': 2, 'vect__ngram_range': (1, 2)}\n",
      "Best:  0.7215608461131218\n"
     ]
    }
   ],
   "source": [
    "# TRAIN/CROSS-VAL score\n",
    "print('Best Params: ', gs_clf_word.best_params_)\n",
    "print('Best: ', gs_clf_word.best_score_)"
   ]
  },
  {
   "cell_type": "markdown",
   "metadata": {},
   "source": [
    "Our cross validation score increased slightly again by about 1%. Next, let's see how our model works if we use character ngrams. "
   ]
  },
  {
   "cell_type": "markdown",
   "metadata": {},
   "source": [
    "### With Character N-Grams"
   ]
  },
  {
   "cell_type": "code",
   "execution_count": null,
   "metadata": {},
   "outputs": [],
   "source": [
    "text_clf_char = Pipeline([\n",
    "     ('vect', CountVectorizer(analyzer='char_wb')),\n",
    "     ('tfidf', TfidfTransformer()),\n",
    "     ('clf', LogisticRegression(class_weight='balanced', \n",
    "                                penalty='l2', max_iter=4000, \n",
    "                                solver = 'lbfgs'))\n",
    "     ])\n",
    "\n",
    "parameters = {\n",
    "    'vect__ngram_range': [(1, 1), (1, 2), (1, 5), (1, 7), (2, 3), (2, 5), (3, 8), (5, 5)],\n",
    "    'vect__min_df': [1, 2, 3],\n",
    "    'clf__C': [100, 10, 1, 1e-1, 1e-2, 1e-3]\n",
    "     }\n",
    "\n",
    "gs_clf_char = GridSearchCV(text_clf_char, parameters, \n",
    "                           cv=5, n_jobs=-1, scoring = \"roc_auc\")\n",
    "gs_clf_char.fit(X_train, y_train)"
   ]
  },
  {
   "cell_type": "code",
   "execution_count": 78,
   "metadata": {},
   "outputs": [
    {
     "name": "stdout",
     "output_type": "stream",
     "text": [
      "Best Params:  {'clf__C': 1, 'vect__min_df': 3, 'vect__ngram_range': (1, 7)}\n",
      "Best:  0.7351486932766884\n"
     ]
    }
   ],
   "source": [
    "# CROSS VAL SCORE\n",
    "print('Best Params: ', gs_clf_char.best_params_)\n",
    "print('Best: ', gs_clf_char.best_score_)"
   ]
  },
  {
   "cell_type": "markdown",
   "metadata": {},
   "source": [
    "Our character n-grams improved our results even more! So we will use character n-grams in this case."
   ]
  },
  {
   "cell_type": "markdown",
   "metadata": {},
   "source": [
    "### Conclusion\n",
    "\n",
    "As we can see above, we found that our character n-grams and tfidf improved our model from the baseline by about 3%. So we will use such settings."
   ]
  },
  {
   "cell_type": "markdown",
   "metadata": {},
   "source": [
    "## Feature Engineering\n",
    "Let us now try to derive more features from this dataset (e.g. Html, length, punctuation, capitalization) to try to improve the score."
   ]
  },
  {
   "cell_type": "markdown",
   "metadata": {},
   "source": [
    "Let's see if driving additional features will improve our model."
   ]
  },
  {
   "cell_type": "code",
   "execution_count": 80,
   "metadata": {},
   "outputs": [],
   "source": [
    "train_derived = my_train.copy()"
   ]
  },
  {
   "cell_type": "markdown",
   "metadata": {},
   "source": [
    "### Capitalization"
   ]
  },
  {
   "cell_type": "markdown",
   "metadata": {},
   "source": [
    "#### Percentage of Capitalized Letters"
   ]
  },
  {
   "cell_type": "code",
   "execution_count": 81,
   "metadata": {},
   "outputs": [],
   "source": [
    "def count_upper(sentence):\n",
    "    count = 0\n",
    "    for letter in sentence: \n",
    "        if letter.isupper():\n",
    "            count += 1\n",
    "    \n",
    "    return count/len(sentence)\n",
    "\n",
    "count_upper_v = np.vectorize(count_upper)\n",
    "train_derived['capital_letter_pct'] = count_upper_v(train_derived['body'])"
   ]
  },
  {
   "cell_type": "markdown",
   "metadata": {},
   "source": [
    "#### Number of All Capitalized Words"
   ]
  },
  {
   "cell_type": "code",
   "execution_count": 82,
   "metadata": {},
   "outputs": [],
   "source": [
    "def count_upper_words(sentence):\n",
    "    # remove punctuation\n",
    "    sentence = sentence.translate(str.maketrans('', '', string.punctuation))\n",
    "    count = 0\n",
    "    words = sentence.split(' ')\n",
    "    for w in words:\n",
    "        allcaps = True\n",
    "        if w.isupper() and len(w) > 1:\n",
    "            count += 1\n",
    "    return count\n",
    "count_upper_words_v = np.vectorize(count_upper_words)\n",
    "train_derived['capital_word_count'] = count_upper_words_v(train_derived['body'])"
   ]
  },
  {
   "cell_type": "markdown",
   "metadata": {},
   "source": [
    "### Length \n",
    "Next, let's count the length of the sentence itself as well as the longest word in the sentence. First, let's remove websites."
   ]
  },
  {
   "cell_type": "code",
   "execution_count": 83,
   "metadata": {},
   "outputs": [],
   "source": [
    "train_without_url = train_derived.copy()\n",
    "# number of digits\n",
    "train_derived['digits_count'] = train_without_url['body'].str.count('\\d') \n",
    "# number of alphabets\n",
    "train_derived['alphabet_count'] = train_without_url['body'].str.count('[A-Za-z]') \n",
    "train_derived['sentence_length'] = train_without_url['body'].str.len()\n",
    "\n",
    "def longest_word_n(sentence):\n",
    "    sentence = sentence.translate(str.maketrans('', '', string.punctuation))\n",
    "    words = sentence.split(' ')\n",
    "    return max([len(w) for w in words])\n",
    "longest_word_n_v = np.vectorize(longest_word_n)\n",
    "train_derived['longest_word_length'] = longest_word_n_v(train_without_url['body'])"
   ]
  },
  {
   "cell_type": "markdown",
   "metadata": {},
   "source": [
    "### Websites"
   ]
  },
  {
   "cell_type": "markdown",
   "metadata": {},
   "source": [
    "#### Number of Links"
   ]
  },
  {
   "cell_type": "code",
   "execution_count": 84,
   "metadata": {},
   "outputs": [],
   "source": [
    "train_derived['links_count'] = train_derived['body'].str.count('http')"
   ]
  },
  {
   "cell_type": "markdown",
   "metadata": {},
   "source": [
    "#### Top Level Domains Count"
   ]
  },
  {
   "cell_type": "code",
   "execution_count": 85,
   "metadata": {},
   "outputs": [],
   "source": [
    "top_domains = ['\\.com','\\.org','\\.edu','\\.gov','\\.net','\\.io']\n",
    "for i in top_domains:\n",
    "    colname = 'count_'+i\n",
    "    train_derived[colname] = train_derived.body.str.count(i)    "
   ]
  },
  {
   "cell_type": "markdown",
   "metadata": {},
   "source": [
    "### Punctuation Count"
   ]
  },
  {
   "cell_type": "code",
   "execution_count": 86,
   "metadata": {},
   "outputs": [],
   "source": [
    "punctuation = ['!','\\?','\\.','#',':',';','@','\\(','\\)','\\'','&','\\$',';\\)',':\\)']\n",
    "for i in punctuation:\n",
    "    colname = 'count_'+i\n",
    "    train_derived[colname] = train_derived.body.str.count(i)    "
   ]
  },
  {
   "cell_type": "markdown",
   "metadata": {},
   "source": [
    "### Putting it Together"
   ]
  },
  {
   "cell_type": "code",
   "execution_count": 87,
   "metadata": {},
   "outputs": [],
   "source": [
    "def derive_new_features(original):\n",
    "    df = original.copy()\n",
    "    # capital letter\n",
    "    df['capital_letter_pct'] = count_upper_v(df['body'])\n",
    "    df['capital_word_count'] = count_upper_words_v(df['body'])\n",
    "    # websites\n",
    "    df['links_count'] = df['body'].str.count('http')\n",
    "    top_domains = ['\\.com','\\.org','\\.edu','\\.gov','\\.net','\\.io']\n",
    "    for i in top_domains:\n",
    "        colname = 'count_'+i\n",
    "        df[colname] = df.body.str.count(i)\n",
    "    # length\n",
    "    df['digits_count'] = df['body'].str.count('\\d')\n",
    "    df['alphabet_count'] = df['body'].str.count('[A-Za-z]')\n",
    "    df['sentence_length'] = df['body'].str.len()\n",
    "    df['longest_word_length'] = longest_word_n_v(df['body'])\n",
    "    # punctuation\n",
    "    punctuation = ['!','\\?','\\.','#',':',';','@','\\(','\\)','\\'','&','\\$',';\\)',':\\)']\n",
    "    for i in punctuation:\n",
    "        colname = 'count_'+i\n",
    "        df[colname] = df.body.str.count(i)    \n",
    "    return df\n",
    "train_derived = derive_new_features(my_train)"
   ]
  },
  {
   "cell_type": "markdown",
   "metadata": {},
   "source": [
    "### Check Score\n",
    "Let's see if these new derived features increased our classification performance."
   ]
  },
  {
   "cell_type": "code",
   "execution_count": 89,
   "metadata": {},
   "outputs": [],
   "source": [
    "X_train_derived = train_derived.drop(['REMOVED'], axis = 1)\n",
    "y_train_derived = train_derived['REMOVED']"
   ]
  },
  {
   "cell_type": "code",
   "execution_count": 90,
   "metadata": {},
   "outputs": [],
   "source": [
    "text_col = 'body'\n",
    "others_col = list(np.delete(X_train_derived.columns.values, 0))"
   ]
  },
  {
   "cell_type": "code",
   "execution_count": 91,
   "metadata": {},
   "outputs": [],
   "source": [
    "from sklearn.base import TransformerMixin\n",
    "from scipy.sparse import csr_matrix\n",
    "\n",
    "class SparseTransformer(TransformerMixin):\n",
    "\n",
    "    def fit(self, X, y=None, **fit_params):\n",
    "        return self\n",
    "\n",
    "    def transform(self, X, y=None, **fit_params):\n",
    "        return csr_matrix(X)"
   ]
  },
  {
   "cell_type": "code",
   "execution_count": 92,
   "metadata": {},
   "outputs": [],
   "source": [
    "from sklearn.compose import ColumnTransformer\n",
    "from sklearn.pipeline import make_pipeline\n",
    "from scipy.sparse import csr_matrix\n",
    "from sklearn.preprocessing import StandardScaler\n",
    "\n",
    "text_preprocess = Pipeline(steps=[\n",
    "     ('vect', CountVectorizer(analyzer='char_wb')),\n",
    "     ('tfidf', TfidfTransformer())\n",
    "])\n",
    "\n",
    "other_preprocess = Pipeline(steps=[\n",
    "    ('sparse', SparseTransformer())\n",
    "])\n",
    "\n",
    "col_transformer = ColumnTransformer(\n",
    "    [('text',text_preprocess, text_col),\n",
    "    ('other',other_preprocess, others_col)]\n",
    ")\n",
    "\n",
    "final_pipeline = Pipeline(steps=[\n",
    "    ('columntransformer', col_transformer),\n",
    "    ('logisticregression', LogisticRegression(class_weight='balanced', \n",
    "                                              max_iter=4000, \n",
    "                                              solver = 'lbfgs'))\n",
    "])"
   ]
  },
  {
   "cell_type": "code",
   "execution_count": null,
   "metadata": {},
   "outputs": [],
   "source": [
    "parameters = {\n",
    "    'columntransformer__text__vect__ngram_range': [(1, 1), (1, 2), (1, 5), (1, 7), (2, 3), (2, 5), (3, 8), (5, 5)],\n",
    "    'columntransformer__text__vect__min_df': [1, 2, 3],\n",
    "    'logisticregression__C': [100, 10, 1, 1e-1, 1e-2, 1e-3]\n",
    "     }\n",
    "\n",
    "gs_derived = GridSearchCV(final_pipeline, parameters, cv=5, \n",
    "                          n_jobs=-1, scoring = \"roc_auc\")\n",
    "gs_derived.fit(X_train_derived, y_train_derived)"
   ]
  },
  {
   "cell_type": "code",
   "execution_count": 94,
   "metadata": {},
   "outputs": [
    {
     "name": "stdout",
     "output_type": "stream",
     "text": [
      "Best Params:  {'columntransformer__text__vect__min_df': 2, 'columntransformer__text__vect__ngram_range': (1, 5), 'logisticregression__C': 1}\n",
      "Best:  0.7521540955881347\n"
     ]
    }
   ],
   "source": [
    "print('Best Params: ', gs_derived.best_params_)\n",
    "print('Best: ', gs_derived.best_score_)"
   ]
  },
  {
   "cell_type": "markdown",
   "metadata": {},
   "source": [
    "### Conclusion\n",
    "Our derived features improves our score by yet another 1%. In this case, let's include our derived features!"
   ]
  },
  {
   "cell_type": "markdown",
   "metadata": {},
   "source": [
    "# Word Vectors\n",
    "Now we will try to use a pretrained word-embedding (Google News Gensim) to model our data."
   ]
  },
  {
   "cell_type": "code",
   "execution_count": 107,
   "metadata": {},
   "outputs": [],
   "source": [
    "import gensim"
   ]
  },
  {
   "cell_type": "code",
   "execution_count": 108,
   "metadata": {},
   "outputs": [],
   "source": [
    "# download here https://github.com/mmihaltz/word2vec-GoogleNews-vectors\n",
    "model = gensim.models.KeyedVectors.load_word2vec_format('GoogleNews-vectors-negative300.bin.gz', binary=True)  "
   ]
  },
  {
   "cell_type": "code",
   "execution_count": 129,
   "metadata": {},
   "outputs": [],
   "source": [
    "X_train_gensim = train_derived_clean.drop(['REMOVED'], axis = 1)\n",
    "y_train_gensim = train_derived_clean['REMOVED']"
   ]
  },
  {
   "cell_type": "markdown",
   "metadata": {},
   "source": [
    "### We have to remove words that are not in our dictionary and remove empty lists"
   ]
  },
  {
   "cell_type": "code",
   "execution_count": 130,
   "metadata": {},
   "outputs": [],
   "source": [
    "x_train_texts = [[token for token in doc.lower().split() if token in model] \\\n",
    "                 for doc in X_train_gensim['body']]\n",
    "index_to_remove = [len(i) for i in x_train_texts]\n",
    "x_train_texts = [i for i in x_train_texts if len(i) > 0]\n",
    "x_train_new = np.vstack([np.mean(model[doc], axis=0) for doc in x_train_texts])\n",
    "y_index = [i != 0 for i in index_to_remove]\n",
    "y_train_new = y_train_gensim[y_index]"
   ]
  },
  {
   "cell_type": "code",
   "execution_count": 135,
   "metadata": {},
   "outputs": [],
   "source": [
    "X_other = X_train_gensim.drop(['body'], axis=1)[y_index]\n",
    "X_train_gensim = np.concatenate((x_train_new, X_other.values), axis=1)"
   ]
  },
  {
   "cell_type": "code",
   "execution_count": 111,
   "metadata": {},
   "outputs": [],
   "source": [
    "x_test_texts = [[token for token in doc.lower().split() if token in model] \\\n",
    "                for doc in X_test_gensim['body']]\n",
    "index_to_remove = [len(i) for i in x_test_texts]\n",
    "x_test_texts = [i for i in x_test_texts if len(i) > 0]\n",
    "x_test_new = np.vstack([np.mean(model[doc], axis=0) for doc in x_test_texts])\n",
    "y_index = [i != 0 for i in index_to_remove]\n",
    "y_test_new = y_test_gensim[y_index]"
   ]
  },
  {
   "cell_type": "markdown",
   "metadata": {},
   "source": [
    "### Running our w2v model"
   ]
  },
  {
   "cell_type": "code",
   "execution_count": 138,
   "metadata": {},
   "outputs": [
    {
     "name": "stderr",
     "output_type": "stream",
     "text": [
      "/Users/TimGimi/miniconda3/lib/python3.7/site-packages/sklearn/linear_model/logistic.py:758: ConvergenceWarning: lbfgs failed to converge. Increase the number of iterations.\n",
      "  \"of iterations.\", ConvergenceWarning)\n"
     ]
    },
    {
     "data": {
      "text/plain": [
       "LogisticRegressionCV(Cs=10, class_weight='balanced', cv=5, dual=False,\n",
       "           fit_intercept=True, intercept_scaling=1.0, max_iter=100,\n",
       "           multi_class='warn', n_jobs=-1, penalty='l2', random_state=None,\n",
       "           refit=True, scoring='roc_auc', solver='lbfgs', tol=0.0001,\n",
       "           verbose=0)"
      ]
     },
     "execution_count": 138,
     "metadata": {},
     "output_type": "execute_result"
    }
   ],
   "source": [
    "lr_w2v = LogisticRegressionCV(cv=5, class_weight='balanced', \n",
    "                              penalty='l2', n_jobs=-1, \n",
    "                              scoring='roc_auc', max_iter=100,\n",
    "                              solver = 'lbfgs')\n",
    "lr_w2v.fit(X_train_gensim, y_train_new)"
   ]
  },
  {
   "cell_type": "code",
   "execution_count": 143,
   "metadata": {},
   "outputs": [
    {
     "data": {
      "text/plain": [
       "0.7017863157479809"
      ]
     },
     "execution_count": 143,
     "metadata": {},
     "output_type": "execute_result"
    }
   ],
   "source": [
    "# CROSS VALIDATION SCORE\n",
    "cv_scores = [np.mean(x) for x in lr_w2v.scores_[1]]\n",
    "cv_scores = []\n",
    "for i in range(len(lr_w2v.scores_[1])):\n",
    "    cv_scores.append(np.mean(lr_w2v.scores_[1][:,i]))\n",
    "best_cv_score=max(cv_scores)\n",
    "best_cv_score"
   ]
  },
  {
   "cell_type": "markdown",
   "metadata": {},
   "source": [
    "### Conclusion\n",
    "Our word2vec model is worse by 5%! This is probably due to gensim 'playing down' the effects of mispellings due to the embeddings compared to the bag of words, which can be indicative of a troll. Therefore, we will choose our improved bag of words model as our best model. "
   ]
  },
  {
   "cell_type": "markdown",
   "metadata": {},
   "source": [
    "# Best Model : Test Score"
   ]
  },
  {
   "cell_type": "markdown",
   "metadata": {},
   "source": [
    "Now that we have found our best model (bag-of-words), let's see how it performs to our out of sample dataset. "
   ]
  },
  {
   "cell_type": "code",
   "execution_count": 175,
   "metadata": {},
   "outputs": [],
   "source": [
    "test_derived = derive_new_features(my_test)\n",
    "X_test_derived = test_derived.drop(['REMOVED'], axis = 1)\n",
    "y_test_derived = test_derived['REMOVED']"
   ]
  },
  {
   "cell_type": "code",
   "execution_count": 177,
   "metadata": {},
   "outputs": [
    {
     "name": "stdout",
     "output_type": "stream",
     "text": [
      "Classification report: \n",
      "              precision    recall  f1-score   support\n",
      "\n",
      "           0     0.7937    0.6838    0.7346     34565\n",
      "           1     0.5806    0.7112    0.6393     21278\n",
      "\n",
      "   micro avg     0.6942    0.6942    0.6942     55843\n",
      "   macro avg     0.6871    0.6975    0.6870     55843\n",
      "weighted avg     0.7125    0.6942    0.6983     55843\n",
      "\n",
      "Confusion matrix: \n",
      "       0      1\n",
      "0  23635  10930\n",
      "1   6145  15133\n",
      "ROC-AUC Score: \n",
      "0.6974941176376211\n"
     ]
    }
   ],
   "source": [
    "y_pred = gs_derived.predict(X_test_derived)\n",
    "print(\"Classification report: \")\n",
    "print(classification_report(y_test_derived, y_pred, digits=4))\n",
    "print(\"Confusion matrix: \")\n",
    "print(pd.DataFrame(confusion_matrix(y_test_derived, y_pred)))\n",
    "print(\"ROC-AUC Score: \")\n",
    "print(roc_auc_score(y_test_derived, y_pred))"
   ]
  },
  {
   "cell_type": "markdown",
   "metadata": {},
   "source": [
    "Our test ROC_AUC from our model is 69.7%, which is not terrible considering our alternative is only random guessing. \n",
    "\n",
    "## Production Considerations\n",
    "\n",
    "Our model is not a highly accurate model, thus if this model was to be implemented it should act as a 'flagging tool' and give human administrators the power to decide whether a post should be removed/not, rather than completely automating the removal procedure. \n",
    "\n",
    "## Next Steps \n",
    "\n",
    "We can try to improve this model by deriving/including more features (traverse the user id, score), add more computation power to be able to grid search a larger dataset, and use more advanced models/different word embeddings."
   ]
  }
 ],
 "metadata": {
  "kernelspec": {
   "display_name": "Python 3",
   "language": "python",
   "name": "python3"
  },
  "language_info": {
   "codemirror_mode": {
    "name": "ipython",
    "version": 3
   },
   "file_extension": ".py",
   "mimetype": "text/x-python",
   "name": "python",
   "nbconvert_exporter": "python",
   "pygments_lexer": "ipython3",
   "version": "3.7.1"
  },
  "toc": {
   "base_numbering": 1,
   "nav_menu": {},
   "number_sections": true,
   "sideBar": true,
   "skip_h1_title": false,
   "title_cell": "Table of Contents",
   "title_sidebar": "Contents",
   "toc_cell": false,
   "toc_position": {},
   "toc_section_display": true,
   "toc_window_display": false
  }
 },
 "nbformat": 4,
 "nbformat_minor": 2
}
